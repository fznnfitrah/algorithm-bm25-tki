{
  "nbformat": 4,
  "nbformat_minor": 0,
  "metadata": {
    "colab": {
      "provenance": [],
      "authorship_tag": "ABX9TyMg1f0Pc+pQLj8+jqPRbSix",
      "include_colab_link": true
    },
    "kernelspec": {
      "name": "python3",
      "display_name": "Python 3"
    },
    "language_info": {
      "name": "python"
    }
  },
  "cells": [
    {
      "cell_type": "markdown",
      "metadata": {
        "id": "view-in-github",
        "colab_type": "text"
      },
      "source": [
        "<a href=\"https://colab.research.google.com/github/fznnfitrah/algorithm-bm25-tki/blob/main/Bm25.ipynb\" target=\"_parent\"><img src=\"https://colab.research.google.com/assets/colab-badge.svg\" alt=\"Open In Colab\"/></a>"
      ]
    },
    {
      "cell_type": "code",
      "source": [
        "import pandas as pd\n",
        "from rank_bm25 import BM25Okapi\n",
        "import re\n"
      ],
      "metadata": {
        "id": "b_Ht3J5cRQOU"
      },
      "execution_count": null,
      "outputs": []
    },
    {
      "cell_type": "markdown",
      "source": [
        "\n",
        "1. Membaca data dari file CSV bernama tmdb_top_rated_movies.csv dan menyimpannya ke dalam sebuah DataFrame Pandas bernama df."
      ],
      "metadata": {
        "id": "7RSMMtA3URo0"
      }
    },
    {
      "cell_type": "code",
      "source": [
        "df = pd.read_csv('tmdb_top_rated_movies.csv')"
      ],
      "metadata": {
        "id": "0DSY-cDJRTnM"
      },
      "execution_count": null,
      "outputs": []
    },
    {
      "cell_type": "markdown",
      "source": [
        "2. memproses judul yang telah didapat sebelumnya\n",
        "3. Membuat sebuah daftar (list) yang berisi judul-judul film yang telah melalui proses preprocessing. Daftar ini akan menjadi \"korpus\" dokumen yang akan diindeks oleh algoritma BM25."
      ],
      "metadata": {
        "id": "RE8h7EB7UWzR"
      }
    },
    {
      "cell_type": "code",
      "source": [
        "# 2. Preprocessing judul film\n",
        "def preprocess_text(text):\n",
        "    text = text.lower()\n",
        "    text = re.sub(r'[^\\w\\s]', '', text)\n",
        "    return text\n",
        "\n",
        "# 3. Buat korpus judul yang sudah dipreprocess\n",
        "df['processed_title'] = df['title'].apply(preprocess_text)\n",
        "corpus = df['processed_title'].dropna().tolist()\n"
      ],
      "metadata": {
        "id": "ACbu-IAcRXQz"
      },
      "execution_count": null,
      "outputs": []
    },
    {
      "cell_type": "markdown",
      "source": [
        "4. Proses memecah teks menjadi unit-unit yang lebih kecil, biasanya kata-kata atau frasa. BM25 adalah algoritma yang bekerja pada tingkat kata. Oleh karena itu, setiap judul film yang telah diproses perlu dipecah menjadi kata-kata individual. Untuk setiap doc (yang merupakan sebuah judul film yang sudah diproses) dalam corpus, metode .split() digunakan. Secara default, .split() akan memecah string berdasarkan spasi, menghasilkan sebuah list kata-kata. Hasilnya adalah sebuah list dari list, di mana setiap list di dalamnya berisi kata-kata dari sebuah judul film."
      ],
      "metadata": {
        "id": "nosqfce9U7X5"
      }
    },
    {
      "cell_type": "code",
      "source": [
        "# 4. Tokenisasi judul film\n",
        "tokenized_corpus = [doc.split() for doc in corpus]"
      ],
      "metadata": {
        "id": "BGuulWvwRZ6Y"
      },
      "execution_count": null,
      "outputs": []
    },
    {
      "cell_type": "markdown",
      "source": [
        "5. Di baris ini, kita membuat sebuah instan objek dari kelas BM25Okapi yang telah kita impor sebelumnya. Objek ini akan kita gunakan untuk melakukan perhitungan skor relevansi. Saat kita membuat objek BM25Okapi, kita perlu memberikan korpus dokumen yang akan diindeks. Proses inisialisasi ini memungkinkan objek bm25 untuk mempelajari karakteristik kata-kata dalam korpus, seperti frekuensi kata dan invers dokumen frekuensi (IDF), yang akan digunakan nanti dalam perhitungan skor relevans"
      ],
      "metadata": {
        "id": "Oqrr-ha8VoxP"
      }
    },
    {
      "cell_type": "code",
      "source": [
        "# 5. Inisialisasi BM25\n",
        "bm25 = BM25Okapi(tokenized_corpus)"
      ],
      "metadata": {
        "id": "80rCtofnRbAd"
      },
      "execution_count": null,
      "outputs": []
    },
    {
      "cell_type": "markdown",
      "source": [
        "6. Mendefinisikan sebuah fungsi bernama search_movies yang menerima query pencarian dan jumlah hasil teratas yang ingin dikembalikan (top_n, dengan nilai default 5). Fungsi ini akan mencari film-film yang paling relevan dengan query tersebut berdasarkan algoritma BM25."
      ],
      "metadata": {
        "id": "26HNrEhWWOfw"
      }
    },
    {
      "cell_type": "code",
      "source": [
        "\n",
        "# 6. Fungsi pencarian\n",
        "def search_movies(query_text, top_n=5):\n",
        "    # proses query\n",
        "    processed_query = preprocess_text(query_text)\n",
        "    tokenized_query = processed_query.split()\n",
        "\n",
        "    # Dapatkan skor untuk setiap dokumen\n",
        "    scores = bm25.get_scores(tokenized_query)\n",
        "\n",
        "    # Gabungkan skor dengan indeks dan urutkan\n",
        "    scored_results = [(score, idx) for idx, score in enumerate(scores)]\n",
        "    scored_results.sort(reverse=True) # Mengurutkan data dari yang tertinggi\n",
        "\n",
        "    top_results = []\n",
        "    for i in range(min(top_n, len(scored_results))):\n",
        "        if scored_results[i][0] > 0:\n",
        "            top_results.append(scored_results[i])\n",
        "\n",
        "    return top_results"
      ],
      "metadata": {
        "id": "h7a1OdP8NZ2m"
      },
      "execution_count": null,
      "outputs": []
    },
    {
      "cell_type": "markdown",
      "source": [
        "7. Meminta pengguna untuk memasukkan kata kunci pencarian melalui command line dan menyimpan input tersebut dalam variabel query.\n",
        "\n"
      ],
      "metadata": {
        "id": "sZkEyk0uWZOC"
      }
    },
    {
      "cell_type": "code",
      "source": [
        "# 7. Minta input query\n",
        "query = input(\"Masukkan kata kunci pencarian judul film: \")\n",
        "\n",
        "# gunakan fungsi tadi untuk mendapatkan judul\n",
        "top_results = search_movies(query)\n",
        "print(f\"\\nHasil pencarian untuk: '{query}'\\n\")\n",
        "\n",
        "# tampilakn hasil dari pencarian\n",
        "if len(top_results) == 0:\n",
        "    print(\"Tidak ditemukan hasil yang cocok dengan pencarian Anda.\")\n",
        "else:\n",
        "    for i, (score, idx) in enumerate(top_results, 1):\n",
        "        movie = df.iloc[idx]\n",
        "        relevance_percent = score  # Konversi skor ke persentase relevansi (dengan batas 100%)\n",
        "\n",
        "        print(f\"{i}. {movie['title']} - Score BM25: {relevance_percent}\")\n",
        "        print(f\"   Tahun: {movie['release_date'][:4]}\")\n",
        "        print(f\"   Rating: {movie['vote_average']} ({movie['vote_count']} votes)\")\n",
        "        print(f\"   Overview: {movie['overview'][:150]}...\" if len(movie['overview']) > 150 else movie['overview'])\n",
        "        print()"
      ],
      "metadata": {
        "colab": {
          "base_uri": "https://localhost:8080/"
        },
        "id": "W0g3Z__5Ript",
        "outputId": "bbd3a6c6-18ec-44f6-8577-d99d1fefcb5d"
      },
      "execution_count": null,
      "outputs": [
        {
          "output_type": "stream",
          "name": "stdout",
          "text": [
            "Masukkan kata kunci pencarian judul film: spiderman\n",
            "\n",
            "Hasil pencarian untuk: 'spiderman'\n",
            "\n",
            "1. Spider-Man - Score BM25: 9.532889440786716\n",
            "   Tahun: 2002\n",
            "   Rating: 7.309 (19538 votes)\n",
            "   Overview: After being bitten by a genetically altered spider at Oscorp, nerdy but endearing high school student Peter Parker is endowed with amazing powers to b...\n",
            "\n",
            "2. Spider-Man - Score BM25: 9.532889440786716\n",
            "   Tahun: 2002\n",
            "   Rating: 7.3 (19538 votes)\n",
            "   Overview: After being bitten by a genetically altered spider at Oscorp, nerdy but endearing high school student Peter Parker is endowed with amazing powers to b...\n",
            "\n",
            "3. Spider-Man 3 - Score BM25: 7.780738361426088\n",
            "   Tahun: 2007\n",
            "   Rating: 6.435 (14410 votes)\n",
            "   Overview: The seemingly invincible Spider-Man goes up against an all-new crop of villains—including the shape-shifting Sandman. While Spider-Man’s superpowers a...\n",
            "\n",
            "4. Spider-Man 2 - Score BM25: 7.780738361426088\n",
            "   Tahun: 2004\n",
            "   Rating: 7.3 (15437 votes)\n",
            "   Overview: Peter Parker is going through a major identity crisis. Burned out from being Spider-Man, he decides to shelve his superhero alter ego, which leaves th...\n",
            "\n",
            "5. Spider-Man: Homecoming - Score BM25: 7.780738361426088\n",
            "   Tahun: 2017\n",
            "   Rating: 7.331 (22149 votes)\n",
            "   Overview: Following the events of Captain America: Civil War, Peter Parker, with the help of his mentor Tony Stark, tries to balance his life as an ordinary hig...\n",
            "\n"
          ]
        }
      ]
    }
  ]
}